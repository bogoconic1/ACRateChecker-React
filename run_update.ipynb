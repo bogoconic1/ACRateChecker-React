{
 "cells": [
  {
   "cell_type": "code",
   "execution_count": 2,
   "metadata": {},
   "outputs": [],
   "source": [
    "import os\n",
    "import pandas as pd\n",
    "import matplotlib.pyplot as plt\n",
    "import requests\n",
    "import json\n",
    "from tqdm import tqdm\n",
    "\n",
    "folder = 'src'\n",
    "\n",
    "if os.getcwd() != folder:\n",
    "    os.chdir(folder)"
   ]
  },
  {
   "cell_type": "code",
   "execution_count": 6,
   "metadata": {},
   "outputs": [],
   "source": [
    "name2id_old = json.load(open(\"name2id.json\"))\n",
    "name2probs_old = json.load(open(\"name2probs.json\"))\n",
    "\n",
    "contests_in_old = name2id_old.values()"
   ]
  },
  {
   "cell_type": "code",
   "execution_count": 7,
   "metadata": {},
   "outputs": [
    {
     "data": {
      "text/html": [
       "<div>\n",
       "<style scoped>\n",
       "    .dataframe tbody tr th:only-of-type {\n",
       "        vertical-align: middle;\n",
       "    }\n",
       "\n",
       "    .dataframe tbody tr th {\n",
       "        vertical-align: top;\n",
       "    }\n",
       "\n",
       "    .dataframe thead th {\n",
       "        text-align: right;\n",
       "    }\n",
       "</style>\n",
       "<table border=\"1\" class=\"dataframe\">\n",
       "  <thead>\n",
       "    <tr style=\"text-align: right;\">\n",
       "      <th></th>\n",
       "      <th>id</th>\n",
       "      <th>name</th>\n",
       "      <th>type</th>\n",
       "      <th>phase</th>\n",
       "      <th>frozen</th>\n",
       "      <th>durationSeconds</th>\n",
       "      <th>startTimeSeconds</th>\n",
       "      <th>relativeTimeSeconds</th>\n",
       "    </tr>\n",
       "  </thead>\n",
       "  <tbody>\n",
       "  </tbody>\n",
       "</table>\n",
       "</div>"
      ],
      "text/plain": [
       "Empty DataFrame\n",
       "Columns: [id, name, type, phase, frozen, durationSeconds, startTimeSeconds, relativeTimeSeconds]\n",
       "Index: []"
      ]
     },
     "execution_count": 7,
     "metadata": {},
     "output_type": "execute_result"
    }
   ],
   "source": [
    "cf_duration_api = requests.get(\"https://codeforces.com/api/contest.list?gym=false\")\n",
    "contests = cf_duration_api.json()\n",
    "cf_duration_dataframe = pd.json_normalize(contests,['result'])\n",
    "\n",
    "cf_duration_dataframe = cf_duration_dataframe[cf_duration_dataframe[\"relativeTimeSeconds\"] > -3000]\n",
    "cf_duration_dataframe = cf_duration_dataframe[~cf_duration_dataframe[\"id\"].isin(contests_in_old)].reset_index(drop=True)\n",
    "cf_duration_dataframe"
   ]
  },
  {
   "cell_type": "code",
   "execution_count": 8,
   "metadata": {},
   "outputs": [],
   "source": [
    "id2name = {}\n",
    "for row in cf_duration_dataframe.values:\n",
    "    id2name[row[0]] = row[1]"
   ]
  },
  {
   "cell_type": "code",
   "execution_count": 9,
   "metadata": {},
   "outputs": [
    {
     "name": "stderr",
     "output_type": "stream",
     "text": [
      "0it [00:00, ?it/s]\n"
     ]
    }
   ],
   "source": [
    "id2probs = {}\n",
    "for contest in tqdm(id2name, total=len(id2name)):\n",
    "    try:\n",
    "        page = \"https://codeforces.com/api/contest.standings?contestId=\" + str(contest) + \"&from=1&count=1&showUnofficial=false\"\n",
    "        cf_submissions_api = requests.get(page)\n",
    "        submissions = cf_submissions_api.json()\n",
    "        #cf_dataframe = pd.json_normalize(submissions,['result'])\n",
    "        \n",
    "        standings = []\n",
    "        problems = sorted([x[\"index\"] + \" - \" + x[\"name\"] for x in submissions[\"result\"][\"problems\"]])\n",
    "\n",
    "        id2probs[contest] = problems\n",
    "    except:\n",
    "        print(f\"ERROR {contest}\")"
   ]
  },
  {
   "cell_type": "code",
   "execution_count": 10,
   "metadata": {},
   "outputs": [],
   "source": [
    "name2id = {v:k for k,v in id2name.items()}\n",
    "\n",
    "name2probs = {}\n",
    "for x in id2name:\n",
    "    if x in id2probs:\n",
    "        name2probs[id2name[x]] = id2probs[x]"
   ]
  },
  {
   "cell_type": "code",
   "execution_count": 12,
   "metadata": {},
   "outputs": [],
   "source": [
    "name2id.update(name2id_old)\n",
    "name2probs.update(name2probs_old)"
   ]
  },
  {
   "cell_type": "code",
   "execution_count": 13,
   "metadata": {},
   "outputs": [],
   "source": [
    "with open(\"name2id.json\", \"w\") as outfile:\n",
    "    json.dump(name2id, outfile)\n",
    "    \n",
    "with open(\"name2probs.json\", \"w\") as outfile:\n",
    "    json.dump(name2probs, outfile)"
   ]
  }
 ],
 "metadata": {
  "kernelspec": {
   "display_name": "myenv",
   "language": "python",
   "name": "python3"
  },
  "language_info": {
   "codemirror_mode": {
    "name": "ipython",
    "version": 3
   },
   "file_extension": ".py",
   "mimetype": "text/x-python",
   "name": "python",
   "nbconvert_exporter": "python",
   "pygments_lexer": "ipython3",
   "version": "3.12.2"
  }
 },
 "nbformat": 4,
 "nbformat_minor": 2
}
